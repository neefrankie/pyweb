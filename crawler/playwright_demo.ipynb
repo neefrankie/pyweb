{
 "cells": [
  {
   "cell_type": "code",
   "execution_count": 2,
   "metadata": {},
   "outputs": [],
   "source": [
    "from playwright.async_api import async_playwright\n",
    "import asyncio\n",
    "import random\n",
    "from playwright_stealth import stealth_async\n",
    "\n",
    "from dotenv import dotenv_values"
   ]
  },
  {
   "cell_type": "code",
   "execution_count": 3,
   "metadata": {},
   "outputs": [],
   "source": [
    "env = dotenv_values(\".env\")\n",
    "\n",
    "CARTA_USER = env[\"CARTA_USER\"]\n",
    "CARTA_PASS = env[\"CARTA_PASS\"]\n",
    "\n",
    "CF_USER = env[\"CLOUDFLARE_USER\"]\n",
    "CF_PASS = env[\"CLOUDFLARE_PASS\"]\n",
    "\n",
    "FTA_USER = env[\"FTA_USER\"]\n",
    "FTA_PASS = env[\"FTA_PASS\"]\n",
    "\n",
    "VISA_EMAIL = env[\"ITALY_VISA_EMAIL\"]\n",
    "VISA_PASS = env[\"ITALY_VISA_PASS\"]"
   ]
  },
  {
   "cell_type": "code",
   "execution_count": 14,
   "metadata": {},
   "outputs": [
    {
     "name": "stdout",
     "output_type": "stream",
     "text": [
      "Fast and reliable end-to-end testing for modern web apps | Playwright\n"
     ]
    }
   ],
   "source": [
    "async with async_playwright() as p:\n",
    "    browser = await p.chromium.launch()\n",
    "    page = await browser.new_page()\n",
    "    await page.goto(\"https://playwright.dev\")\n",
    "    print(await page.title())\n",
    "    await browser.close()"
   ]
  },
  {
   "cell_type": "code",
   "execution_count": 12,
   "metadata": {},
   "outputs": [],
   "source": [
    "async with async_playwright() as p:\n",
    "    browser = await p.webkit.launch()\n",
    "    page = await browser.new_page()\n",
    "    await page.goto(\"https://playwright.dev/\")\n",
    "    await page.screenshot(path=\"example.png\")\n",
    "    await browser.close()"
   ]
  },
  {
   "cell_type": "code",
   "execution_count": 16,
   "metadata": {},
   "outputs": [
    {
     "name": "stdout",
     "output_type": "stream",
     "text": [
      "Fast and reliable end-to-end testing for modern web apps | Playwright\n"
     ]
    }
   ],
   "source": [
    "async with async_playwright() as p:\n",
    "    # To see the browser UI, pass headless=False.\n",
    "    browser = await p.firefox.launch(headless=False, slow_mo=50)\n",
    "    page = await browser.new_page()\n",
    "    await page.goto(\"https://playwright.dev\")\n",
    "    print(await page.title())\n",
    "    await browser.close()"
   ]
  },
  {
   "cell_type": "code",
   "execution_count": 19,
   "metadata": {},
   "outputs": [],
   "source": [
    "async with async_playwright() as p:\n",
    "    browser = await p.chromium.launch()\n",
    "    page = await browser.new_page()\n",
    "    await page.goto(\"https://playwright.dev\")\n",
    "    await page.get_by_role(\"link\", name=\"Get started\").click()\n",
    "    page.get_by_role(\"heading\", name=\"Installation\")"
   ]
  },
  {
   "cell_type": "code",
   "execution_count": 14,
   "metadata": {},
   "outputs": [
    {
     "name": "stdout",
     "output_type": "stream",
     "text": [
      "Welcome to FTC user hub!\n"
     ]
    }
   ],
   "source": [
    "async with async_playwright() as p:\n",
    "    browser = await p.chromium.launch(headless=False, slow_mo=50)\n",
    "    context = await browser.new_context()\n",
    "    page = await context.new_page()\n",
    "    await page.goto(\"https://next.ftacademy.cn/reader/login\")\n",
    "    await page.locator(\"css=#email\").fill(FTA_USER)\n",
    "    await page.locator(\"css=#password\").fill(FTA_PASS)\n",
    "    await page.get_by_role(\"button\", name=\"登录\").click()\n",
    "\n",
    "    await page.wait_for_url(\"https://next.ftacademy.cn/reader/\")\n",
    "    storage = await context.storage_state(path=\"./.auth/fta.json\")\n",
    "    heading = await page.get_by_role(\"heading\", name=\"Welcome\").inner_text()\n",
    "    print(heading)\n",
    "    \n",
    "    await browser.close()"
   ]
  },
  {
   "cell_type": "code",
   "execution_count": 17,
   "metadata": {},
   "outputs": [],
   "source": [
    "async with async_playwright() as p:\n",
    "    browser = await p.chromium.launch(headless=False, slow_mo=50)\n",
    "    context = await browser.new_context(storage_state=\"./.auth/fta.json\")\n",
    "    page = await context.new_page()\n",
    "    await page.goto(\"https://next.ftacademy.cn/reader/subscription\")\n",
    "    await page.locator(\"div\").filter(\n",
    "        has=page.get_by_role(\"heading\", name=\"标准会员\")\n",
    "    ).locator(\"div.card\").nth(0).click()\n",
    "\n",
    "    await browser.close()"
   ]
  },
  {
   "cell_type": "code",
   "execution_count": null,
   "metadata": {},
   "outputs": [],
   "source": [
    "async with async_playwright() as p:\n",
    "    browser = await p.chromium.launch(headless=False, slow_mo=50)\n",
    "    context = await browser.new_context()\n",
    "    page = await context.new_page()\n",
    "\n",
    "    await page.goto(\"https://whatismybrowser.com\")\n",
    "\n",
    "    await page.wait_for_timeout(30*1000)\n",
    "\n",
    "    await browser.close()"
   ]
  },
  {
   "cell_type": "code",
   "execution_count": 4,
   "metadata": {},
   "outputs": [],
   "source": [
    "js = \"\"\"\n",
    "Object.defineProperty(navigator, 'webdriver', {get: () => undefined })\n",
    "\"\"\"\n",
    "async with async_playwright() as p:\n",
    "    browser = await p.firefox.launch(headless=False, slow_mo=50)\n",
    "    context = await browser.new_context()\n",
    "    page = await context.new_page()\n",
    "    await page.add_init_script(js)\n",
    "    # await page.set_extra_http_headers({\n",
    "    #     \"User-Agent\": \"Mozilla/5.0 (Windows NT 10.0; Win64; x64) AppleWebKit/537.36 (KHTML, like Gecko) Chrome/122.0.0.0 Safari/537.36\",\n",
    "    #     \"Accept-Language\": \"en-US,en;q=0.9\",\n",
    "    # })\n",
    "    await stealth_async(page)\n",
    "\n",
    "    await page.goto(\"https://visa.vfsglobal.com/chn/zh/ita/login\")\n",
    "    await asyncio.sleep(random.randint(1, 5))\n",
    "\n",
    "    await page.locator(\"css=#onetrust-accept-btn-handler\").click();\n",
    "\n",
    "    await asyncio.sleep(30)\n",
    "    \n",
    "    await page.locator(\"css=#mat-input-0\").fill(VISA_EMAIL)\n",
    "    await page.locator(\"css=#mat-input-1\").fill(VISA_PASS)\n",
    "\n",
    "    await asyncio.sleep(random.randint(1, 5))\n",
    "\n",
    "    # await page.frame_locator(\"css.ctp-checkbox-label\").get_by_role(\"input\", checked=False).check()\n",
    "\n",
    "    await page.get_by_role(\"button\", name=\"登录\").click()\n",
    "\n",
    "    await asyncio.sleep(60)\n",
    "    await page.screenshot(path=\"tmp/screenshot.png\", full_page=True)\n",
    "    await browser.close()"
   ]
  },
  {
   "cell_type": "code",
   "execution_count": 3,
   "metadata": {},
   "outputs": [
    {
     "ename": "TargetClosedError",
     "evalue": "Target page, context or browser has been closed",
     "output_type": "error",
     "traceback": [
      "\u001b[1;31m---------------------------------------------------------------------------\u001b[0m",
      "\u001b[1;31mTargetClosedError\u001b[0m                         Traceback (most recent call last)",
      "Cell \u001b[1;32mIn[3], line 20\u001b[0m\n\u001b[0;32m      6\u001b[0m \u001b[38;5;66;03m# await page.set_extra_http_headers({\u001b[39;00m\n\u001b[0;32m      7\u001b[0m \u001b[38;5;66;03m#     \"User-Agent\": \"Mozilla/5.0 (Windows NT 10.0; Win64; x64) AppleWebKit/537.36 (KHTML, like Gecko) Chrome/122.0.0.0 Safari/537.36\",\u001b[39;00m\n\u001b[0;32m      8\u001b[0m \u001b[38;5;66;03m#     \"Accept-Language\": \"en-US,en;q=0.9\",\u001b[39;00m\n\u001b[1;32m   (...)\u001b[0m\n\u001b[0;32m     16\u001b[0m \u001b[38;5;66;03m# await page.locator(\"css=mat-input-2\").fill(sms_code)\u001b[39;00m\n\u001b[0;32m     17\u001b[0m \u001b[38;5;66;03m# await page.get_by_role(\"button\", name=\"登录\").click()\u001b[39;00m\n\u001b[0;32m     19\u001b[0m \u001b[38;5;28;01mawait\u001b[39;00m page\u001b[38;5;241m.\u001b[39mgoto(\u001b[38;5;124m\"\u001b[39m\u001b[38;5;124mhttps://visa.vfsglobal.com/chn/zh/ita/dashboard\u001b[39m\u001b[38;5;124m\"\u001b[39m)\n\u001b[1;32m---> 20\u001b[0m heading \u001b[38;5;241m=\u001b[39m \u001b[38;5;28;01mawait\u001b[39;00m page\u001b[38;5;241m.\u001b[39mget_by_role(\u001b[38;5;124m\"\u001b[39m\u001b[38;5;124mbutton\u001b[39m\u001b[38;5;124m\"\u001b[39m, name\u001b[38;5;241m=\u001b[39m\u001b[38;5;124m\"\u001b[39m\u001b[38;5;124m开始新的预约\u001b[39m\u001b[38;5;124m\"\u001b[39m)\u001b[38;5;241m.\u001b[39minner_text()\n\u001b[0;32m     21\u001b[0m \u001b[38;5;28mprint\u001b[39m(heading)\n\u001b[0;32m     23\u001b[0m \u001b[38;5;28;01mawait\u001b[39;00m asyncio\u001b[38;5;241m.\u001b[39msleep(\u001b[38;5;241m60\u001b[39m)\n",
      "File \u001b[1;32md:\\Users\\niweiguo\\anaconda3\\envs\\web\\Lib\\site-packages\\playwright\\async_api\\_generated.py:16104\u001b[0m, in \u001b[0;36mLocator.inner_text\u001b[1;34m(self, timeout)\u001b[0m\n\u001b[0;32m  16085\u001b[0m \u001b[38;5;28;01masync\u001b[39;00m \u001b[38;5;28;01mdef\u001b[39;00m \u001b[38;5;21minner_text\u001b[39m(\u001b[38;5;28mself\u001b[39m, \u001b[38;5;241m*\u001b[39m, timeout: typing\u001b[38;5;241m.\u001b[39mOptional[\u001b[38;5;28mfloat\u001b[39m] \u001b[38;5;241m=\u001b[39m \u001b[38;5;28;01mNone\u001b[39;00m) \u001b[38;5;241m-\u001b[39m\u001b[38;5;241m>\u001b[39m \u001b[38;5;28mstr\u001b[39m:\n\u001b[0;32m  16086\u001b[0m \u001b[38;5;250m    \u001b[39m\u001b[38;5;124;03m\"\"\"Locator.inner_text\u001b[39;00m\n\u001b[0;32m  16087\u001b[0m \n\u001b[0;32m  16088\u001b[0m \u001b[38;5;124;03m    Returns the [`element.innerText`](https://developer.mozilla.org/en-US/docs/Web/API/HTMLElement/innerText).\u001b[39;00m\n\u001b[1;32m   (...)\u001b[0m\n\u001b[0;32m  16101\u001b[0m \u001b[38;5;124;03m    str\u001b[39;00m\n\u001b[0;32m  16102\u001b[0m \u001b[38;5;124;03m    \"\"\"\u001b[39;00m\n\u001b[1;32m> 16104\u001b[0m     \u001b[38;5;28;01mreturn\u001b[39;00m mapping\u001b[38;5;241m.\u001b[39mfrom_maybe_impl(\u001b[38;5;28;01mawait\u001b[39;00m \u001b[38;5;28mself\u001b[39m\u001b[38;5;241m.\u001b[39m_impl_obj\u001b[38;5;241m.\u001b[39minner_text(timeout\u001b[38;5;241m=\u001b[39mtimeout))\n",
      "File \u001b[1;32md:\\Users\\niweiguo\\anaconda3\\envs\\web\\Lib\\site-packages\\playwright\\_impl\\_locator.py:437\u001b[0m, in \u001b[0;36mLocator.inner_text\u001b[1;34m(self, timeout)\u001b[0m\n\u001b[0;32m    435\u001b[0m \u001b[38;5;28;01masync\u001b[39;00m \u001b[38;5;28;01mdef\u001b[39;00m \u001b[38;5;21minner_text\u001b[39m(\u001b[38;5;28mself\u001b[39m, timeout: \u001b[38;5;28mfloat\u001b[39m \u001b[38;5;241m=\u001b[39m \u001b[38;5;28;01mNone\u001b[39;00m) \u001b[38;5;241m-\u001b[39m\u001b[38;5;241m>\u001b[39m \u001b[38;5;28mstr\u001b[39m:\n\u001b[0;32m    436\u001b[0m     params \u001b[38;5;241m=\u001b[39m locals_to_params(\u001b[38;5;28mlocals\u001b[39m())\n\u001b[1;32m--> 437\u001b[0m     \u001b[38;5;28;01mreturn\u001b[39;00m \u001b[38;5;28;01mawait\u001b[39;00m \u001b[38;5;28mself\u001b[39m\u001b[38;5;241m.\u001b[39m_frame\u001b[38;5;241m.\u001b[39minner_text(\n\u001b[0;32m    438\u001b[0m         \u001b[38;5;28mself\u001b[39m\u001b[38;5;241m.\u001b[39m_selector,\n\u001b[0;32m    439\u001b[0m         strict\u001b[38;5;241m=\u001b[39m\u001b[38;5;28;01mTrue\u001b[39;00m,\n\u001b[0;32m    440\u001b[0m         \u001b[38;5;241m*\u001b[39m\u001b[38;5;241m*\u001b[39mparams,\n\u001b[0;32m    441\u001b[0m     )\n",
      "File \u001b[1;32md:\\Users\\niweiguo\\anaconda3\\envs\\web\\Lib\\site-packages\\playwright\\_impl\\_frame.py:618\u001b[0m, in \u001b[0;36mFrame.inner_text\u001b[1;34m(self, selector, strict, timeout)\u001b[0m\n\u001b[0;32m    615\u001b[0m \u001b[38;5;28;01masync\u001b[39;00m \u001b[38;5;28;01mdef\u001b[39;00m \u001b[38;5;21minner_text\u001b[39m(\n\u001b[0;32m    616\u001b[0m     \u001b[38;5;28mself\u001b[39m, selector: \u001b[38;5;28mstr\u001b[39m, strict: \u001b[38;5;28mbool\u001b[39m \u001b[38;5;241m=\u001b[39m \u001b[38;5;28;01mNone\u001b[39;00m, timeout: \u001b[38;5;28mfloat\u001b[39m \u001b[38;5;241m=\u001b[39m \u001b[38;5;28;01mNone\u001b[39;00m\n\u001b[0;32m    617\u001b[0m ) \u001b[38;5;241m-\u001b[39m\u001b[38;5;241m>\u001b[39m \u001b[38;5;28mstr\u001b[39m:\n\u001b[1;32m--> 618\u001b[0m     \u001b[38;5;28;01mreturn\u001b[39;00m \u001b[38;5;28;01mawait\u001b[39;00m \u001b[38;5;28mself\u001b[39m\u001b[38;5;241m.\u001b[39m_channel\u001b[38;5;241m.\u001b[39msend(\u001b[38;5;124m\"\u001b[39m\u001b[38;5;124minnerText\u001b[39m\u001b[38;5;124m\"\u001b[39m, locals_to_params(\u001b[38;5;28mlocals\u001b[39m()))\n",
      "File \u001b[1;32md:\\Users\\niweiguo\\anaconda3\\envs\\web\\Lib\\site-packages\\playwright\\_impl\\_connection.py:59\u001b[0m, in \u001b[0;36mChannel.send\u001b[1;34m(self, method, params)\u001b[0m\n\u001b[0;32m     58\u001b[0m \u001b[38;5;28;01masync\u001b[39;00m \u001b[38;5;28;01mdef\u001b[39;00m \u001b[38;5;21msend\u001b[39m(\u001b[38;5;28mself\u001b[39m, method: \u001b[38;5;28mstr\u001b[39m, params: Dict \u001b[38;5;241m=\u001b[39m \u001b[38;5;28;01mNone\u001b[39;00m) \u001b[38;5;241m-\u001b[39m\u001b[38;5;241m>\u001b[39m Any:\n\u001b[1;32m---> 59\u001b[0m     \u001b[38;5;28;01mreturn\u001b[39;00m \u001b[38;5;28;01mawait\u001b[39;00m \u001b[38;5;28mself\u001b[39m\u001b[38;5;241m.\u001b[39m_connection\u001b[38;5;241m.\u001b[39mwrap_api_call(\n\u001b[0;32m     60\u001b[0m         \u001b[38;5;28;01mlambda\u001b[39;00m: \u001b[38;5;28mself\u001b[39m\u001b[38;5;241m.\u001b[39minner_send(method, params, \u001b[38;5;28;01mFalse\u001b[39;00m)\n\u001b[0;32m     61\u001b[0m     )\n",
      "File \u001b[1;32md:\\Users\\niweiguo\\anaconda3\\envs\\web\\Lib\\site-packages\\playwright\\_impl\\_connection.py:509\u001b[0m, in \u001b[0;36mConnection.wrap_api_call\u001b[1;34m(self, cb, is_internal)\u001b[0m\n\u001b[0;32m    507\u001b[0m \u001b[38;5;28mself\u001b[39m\u001b[38;5;241m.\u001b[39m_api_zone\u001b[38;5;241m.\u001b[39mset(_extract_stack_trace_information_from_stack(st, is_internal))\n\u001b[0;32m    508\u001b[0m \u001b[38;5;28;01mtry\u001b[39;00m:\n\u001b[1;32m--> 509\u001b[0m     \u001b[38;5;28;01mreturn\u001b[39;00m \u001b[38;5;28;01mawait\u001b[39;00m cb()\n\u001b[0;32m    510\u001b[0m \u001b[38;5;28;01mfinally\u001b[39;00m:\n\u001b[0;32m    511\u001b[0m     \u001b[38;5;28mself\u001b[39m\u001b[38;5;241m.\u001b[39m_api_zone\u001b[38;5;241m.\u001b[39mset(\u001b[38;5;28;01mNone\u001b[39;00m)\n",
      "File \u001b[1;32md:\\Users\\niweiguo\\anaconda3\\envs\\web\\Lib\\site-packages\\playwright\\_impl\\_connection.py:97\u001b[0m, in \u001b[0;36mChannel.inner_send\u001b[1;34m(self, method, params, return_as_dict)\u001b[0m\n\u001b[0;32m     95\u001b[0m \u001b[38;5;28;01mif\u001b[39;00m \u001b[38;5;129;01mnot\u001b[39;00m callback\u001b[38;5;241m.\u001b[39mfuture\u001b[38;5;241m.\u001b[39mdone():\n\u001b[0;32m     96\u001b[0m     callback\u001b[38;5;241m.\u001b[39mfuture\u001b[38;5;241m.\u001b[39mcancel()\n\u001b[1;32m---> 97\u001b[0m result \u001b[38;5;241m=\u001b[39m \u001b[38;5;28mnext\u001b[39m(\u001b[38;5;28miter\u001b[39m(done))\u001b[38;5;241m.\u001b[39mresult()\n\u001b[0;32m     98\u001b[0m \u001b[38;5;66;03m# Protocol now has named return values, assume result is one level deeper unless\u001b[39;00m\n\u001b[0;32m     99\u001b[0m \u001b[38;5;66;03m# there is explicit ambiguity.\u001b[39;00m\n\u001b[0;32m    100\u001b[0m \u001b[38;5;28;01mif\u001b[39;00m \u001b[38;5;129;01mnot\u001b[39;00m result:\n",
      "\u001b[1;31mTargetClosedError\u001b[0m: Target page, context or browser has been closed"
     ]
    }
   ],
   "source": [
    "async with async_playwright() as p:\n",
    "    browser = await p.chromium.launch(headless=False, slow_mo=50)\n",
    "    context = await browser.new_context(storage_state=\".auth//italy-visa.json\")\n",
    "    page = await context.new_page()\n",
    "    await stealth_async(page)\n",
    "    # await page.set_extra_http_headers({\n",
    "    #     \"User-Agent\": \"Mozilla/5.0 (Windows NT 10.0; Win64; x64) AppleWebKit/537.36 (KHTML, like Gecko) Chrome/122.0.0.0 Safari/537.36\",\n",
    "    #     \"Accept-Language\": \"en-US,en;q=0.9\",\n",
    "    # })\n",
    "    # await page.goto(\"https://visa.vfsglobal.com/chn/zh/ita/login\")\n",
    "\n",
    "    # await page.locator(\"css=#mat-input-0\").fill(VISA_EMAIL)\n",
    "    # await page.locator(\"css=#mat-input-1\").fill(VISA_PASS)\n",
    "    # await page.get_by_role(\"button\", name=\"登录\").click()\n",
    "\n",
    "    # await page.locator(\"css=mat-input-2\").fill(sms_code)\n",
    "    # await page.get_by_role(\"button\", name=\"登录\").click()\n",
    "    \n",
    "    await page.goto(\"https://visa.vfsglobal.com/chn/zh/ita/dashboard\")\n",
    "    heading = await page.get_by_role(\"button\", name=\"开始新的预约\").inner_text()\n",
    "    print(heading)\n",
    "\n",
    "    await asyncio.sleep(60)\n",
    "    storage = await context.storage_state(path=\"./.auth/italy_visa.json\")\n",
    "    "
   ]
  }
 ],
 "metadata": {
  "kernelspec": {
   "display_name": "play",
   "language": "python",
   "name": "python3"
  },
  "language_info": {
   "codemirror_mode": {
    "name": "ipython",
    "version": 3
   },
   "file_extension": ".py",
   "mimetype": "text/x-python",
   "name": "python",
   "nbconvert_exporter": "python",
   "pygments_lexer": "ipython3",
   "version": "3.12.2"
  }
 },
 "nbformat": 4,
 "nbformat_minor": 2
}
